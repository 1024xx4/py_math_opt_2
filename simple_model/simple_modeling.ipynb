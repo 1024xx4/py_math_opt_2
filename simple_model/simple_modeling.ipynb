{
 "cells": [
  {
   "metadata": {},
   "cell_type": "markdown",
   "source": "# 混合整数計画問題への素朴な数理モデルの実装と実験",
   "id": "3aef2f3e35a6281c"
  },
  {
   "metadata": {
    "ExecuteTime": {
     "end_time": "2024-10-17T09:41:43.492324Z",
     "start_time": "2024-10-17T09:41:40.252434Z"
    }
   },
   "cell_type": "code",
   "source": [
    "import pandas as pd\n",
    "import matplotlib.pyplot as plt\n",
    "import pulp"
   ],
   "id": "387cb8eb07a699e5",
   "outputs": [],
   "execution_count": 1
  },
  {
   "metadata": {
    "ExecuteTime": {
     "end_time": "2024-10-17T09:41:43.555439Z",
     "start_time": "2024-10-17T09:41:43.522513Z"
    }
   },
   "cell_type": "code",
   "source": [
    "# 地点データ\n",
    "df_k_location = pd.read_csv('small_locations.csv')\n",
    "df_k_location"
   ],
   "id": "ef81d6addd1e1663",
   "outputs": [
    {
     "data": {
      "text/plain": [
       "    k  x  y  depo_flag\n",
       "0   p  0  0          1\n",
       "1  s1 -2  0          0\n",
       "2  s2 -2 -2          0\n",
       "3  s3  4  0          0\n",
       "4  s4  4  2          0"
      ],
      "text/html": [
       "<div>\n",
       "<style scoped>\n",
       "    .dataframe tbody tr th:only-of-type {\n",
       "        vertical-align: middle;\n",
       "    }\n",
       "\n",
       "    .dataframe tbody tr th {\n",
       "        vertical-align: top;\n",
       "    }\n",
       "\n",
       "    .dataframe thead th {\n",
       "        text-align: right;\n",
       "    }\n",
       "</style>\n",
       "<table border=\"1\" class=\"dataframe\">\n",
       "  <thead>\n",
       "    <tr style=\"text-align: right;\">\n",
       "      <th></th>\n",
       "      <th>k</th>\n",
       "      <th>x</th>\n",
       "      <th>y</th>\n",
       "      <th>depo_flag</th>\n",
       "    </tr>\n",
       "  </thead>\n",
       "  <tbody>\n",
       "    <tr>\n",
       "      <th>0</th>\n",
       "      <td>p</td>\n",
       "      <td>0</td>\n",
       "      <td>0</td>\n",
       "      <td>1</td>\n",
       "    </tr>\n",
       "    <tr>\n",
       "      <th>1</th>\n",
       "      <td>s1</td>\n",
       "      <td>-2</td>\n",
       "      <td>0</td>\n",
       "      <td>0</td>\n",
       "    </tr>\n",
       "    <tr>\n",
       "      <th>2</th>\n",
       "      <td>s2</td>\n",
       "      <td>-2</td>\n",
       "      <td>-2</td>\n",
       "      <td>0</td>\n",
       "    </tr>\n",
       "    <tr>\n",
       "      <th>3</th>\n",
       "      <td>s3</td>\n",
       "      <td>4</td>\n",
       "      <td>0</td>\n",
       "      <td>0</td>\n",
       "    </tr>\n",
       "    <tr>\n",
       "      <th>4</th>\n",
       "      <td>s4</td>\n",
       "      <td>4</td>\n",
       "      <td>2</td>\n",
       "      <td>0</td>\n",
       "    </tr>\n",
       "  </tbody>\n",
       "</table>\n",
       "</div>"
      ]
     },
     "execution_count": 2,
     "metadata": {},
     "output_type": "execute_result"
    }
   ],
   "execution_count": 2
  },
  {
   "metadata": {},
   "cell_type": "markdown",
   "source": [
    "- `p` : 配送センター（$p$）\n",
    "    - `depo_flag` が 1\n",
    "    - 原点(0, 0)\n",
    "- お店は `s1` ～ `s4`（$S= \\lbrace s1, s2, ･･･ \\rbrace$）\n",
    "- `k`: 地点（$K= \\lbrace p, s1, s2, ... \\rbrace$）"
   ],
   "id": "7674ad19dd433729"
  },
  {
   "metadata": {
    "ExecuteTime": {
     "end_time": "2024-10-17T09:41:43.818333Z",
     "start_time": "2024-10-17T09:41:43.589687Z"
    }
   },
   "cell_type": "code",
   "source": [
    "# 可視化\n",
    "fig, ax = plt.subplots()\n",
    "ax.set_aspect('equal')\n",
    "for row in df_k_location.itertuples():\n",
    "    if row.depo_flag:\n",
    "        ax.scatter(row.x, row.y, marker='o')\n",
    "    else:\n",
    "        ax.scatter(row.x, row.y, marker='x')\n",
    "    ax.annotate(row.k, (row.x, row.y + 0.1))\n",
    "plt.show()"
   ],
   "id": "aa640371add3ce8e",
   "outputs": [
    {
     "data": {
      "text/plain": [
       "<Figure size 640x480 with 1 Axes>"
      ],
      "image/png": "[encoded data removed]"
     },
     "metadata": {},
     "output_type": "display_data"
    }
   ],
   "execution_count": 3
  },
  {
   "metadata": {
    "ExecuteTime": {
     "end_time": "2024-10-17T09:41:44.595918Z",
     "start_time": "2024-10-17T09:41:44.570028Z"
    }
   },
   "cell_type": "code",
   "source": [
    "# 移動時間データ\n",
    "df_kk_distance = pd.read_csv('small_distances.csv')\n",
    "df_kk_distance"
   ],
   "id": "1a6119a12cfb34ed",
   "outputs": [
    {
     "data": {
      "text/plain": [
       "    k1  k2         t\n",
       "0    p   p  0.000000\n",
       "1    p  s1  2.000000\n",
       "2    p  s2  2.828427\n",
       "3    p  s3  4.000000\n",
       "4    p  s4  4.472136\n",
       "5   s1   p  2.000000\n",
       "6   s1  s1  0.000000\n",
       "7   s1  s2  2.000000\n",
       "8   s1  s3  6.000000\n",
       "9   s1  s4  6.324555\n",
       "10  s2   p  2.828427\n",
       "11  s2  s1  2.000000\n",
       "12  s2  s2  0.000000\n",
       "13  s2  s3  6.324555\n",
       "14  s2  s4  7.211103\n",
       "15  s3   p  4.000000\n",
       "16  s3  s1  6.000000\n",
       "17  s3  s2  6.324555\n",
       "18  s3  s3  0.000000\n",
       "19  s3  s4  2.000000\n",
       "20  s4   p  4.472136\n",
       "21  s4  s1  6.324555\n",
       "22  s4  s2  7.211103\n",
       "23  s4  s3  2.000000\n",
       "24  s4  s4  0.000000"
      ],
      "text/html": [
       "<div>\n",
       "<style scoped>\n",
       "    .dataframe tbody tr th:only-of-type {\n",
       "        vertical-align: middle;\n",
       "    }\n",
       "\n",
       "    .dataframe tbody tr th {\n",
       "        vertical-align: top;\n",
       "    }\n",
       "\n",
       "    .dataframe thead th {\n",
       "        text-align: right;\n",
       "    }\n",
       "</style>\n",
       "<table border=\"1\" class=\"dataframe\">\n",
       "  <thead>\n",
       "    <tr style=\"text-align: right;\">\n",
       "      <th></th>\n",
       "      <th>k1</th>\n",
       "      <th>k2</th>\n",
       "      <th>t</th>\n",
       "    </tr>\n",
       "  </thead>\n",
       "  <tbody>\n",
       "    <tr>\n",
       "      <th>0</th>\n",
       "      <td>p</td>\n",
       "      <td>p</td>\n",
       "      <td>0.000000</td>\n",
       "    </tr>\n",
       "    <tr>\n",
       "      <th>1</th>\n",
       "      <td>p</td>\n",
       "      <td>s1</td>\n",
       "      <td>2.000000</td>\n",
       "    </tr>\n",
       "    <tr>\n",
       "      <th>2</th>\n",
       "      <td>p</td>\n",
       "      <td>s2</td>\n",
       "      <td>2.828427</td>\n",
       "    </tr>\n",
       "    <tr>\n",
       "      <th>3</th>\n",
       "      <td>p</td>\n",
       "      <td>s3</td>\n",
       "      <td>4.000000</td>\n",
       "    </tr>\n",
       "    <tr>\n",
       "      <th>4</th>\n",
       "      <td>p</td>\n",
       "      <td>s4</td>\n",
       "      <td>4.472136</td>\n",
       "    </tr>\n",
       "    <tr>\n",
       "      <th>5</th>\n",
       "      <td>s1</td>\n",
       "      <td>p</td>\n",
       "      <td>2.000000</td>\n",
       "    </tr>\n",
       "    <tr>\n",
       "      <th>6</th>\n",
       "      <td>s1</td>\n",
       "      <td>s1</td>\n",
       "      <td>0.000000</td>\n",
       "    </tr>\n",
       "    <tr>\n",
       "      <th>7</th>\n",
       "      <td>s1</td>\n",
       "      <td>s2</td>\n",
       "      <td>2.000000</td>\n",
       "    </tr>\n",
       "    <tr>\n",
       "      <th>8</th>\n",
       "      <td>s1</td>\n",
       "      <td>s3</td>\n",
       "      <td>6.000000</td>\n",
       "    </tr>\n",
       "    <tr>\n",
       "      <th>9</th>\n",
       "      <td>s1</td>\n",
       "      <td>s4</td>\n",
       "      <td>6.324555</td>\n",
       "    </tr>\n",
       "    <tr>\n",
       "      <th>10</th>\n",
       "      <td>s2</td>\n",
       "      <td>p</td>\n",
       "      <td>2.828427</td>\n",
       "    </tr>\n",
       "    <tr>\n",
       "      <th>11</th>\n",
       "      <td>s2</td>\n",
       "      <td>s1</td>\n",
       "      <td>2.000000</td>\n",
       "    </tr>\n",
       "    <tr>\n",
       "      <th>12</th>\n",
       "      <td>s2</td>\n",
       "      <td>s2</td>\n",
       "      <td>0.000000</td>\n",
       "    </tr>\n",
       "    <tr>\n",
       "      <th>13</th>\n",
       "      <td>s2</td>\n",
       "      <td>s3</td>\n",
       "      <td>6.324555</td>\n",
       "    </tr>\n",
       "    <tr>\n",
       "      <th>14</th>\n",
       "      <td>s2</td>\n",
       "      <td>s4</td>\n",
       "      <td>7.211103</td>\n",
       "    </tr>\n",
       "    <tr>\n",
       "      <th>15</th>\n",
       "      <td>s3</td>\n",
       "      <td>p</td>\n",
       "      <td>4.000000</td>\n",
       "    </tr>\n",
       "    <tr>\n",
       "      <th>16</th>\n",
       "      <td>s3</td>\n",
       "      <td>s1</td>\n",
       "      <td>6.000000</td>\n",
       "    </tr>\n",
       "    <tr>\n",
       "      <th>17</th>\n",
       "      <td>s3</td>\n",
       "      <td>s2</td>\n",
       "      <td>6.324555</td>\n",
       "    </tr>\n",
       "    <tr>\n",
       "      <th>18</th>\n",
       "      <td>s3</td>\n",
       "      <td>s3</td>\n",
       "      <td>0.000000</td>\n",
       "    </tr>\n",
       "    <tr>\n",
       "      <th>19</th>\n",
       "      <td>s3</td>\n",
       "      <td>s4</td>\n",
       "      <td>2.000000</td>\n",
       "    </tr>\n",
       "    <tr>\n",
       "      <th>20</th>\n",
       "      <td>s4</td>\n",
       "      <td>p</td>\n",
       "      <td>4.472136</td>\n",
       "    </tr>\n",
       "    <tr>\n",
       "      <th>21</th>\n",
       "      <td>s4</td>\n",
       "      <td>s1</td>\n",
       "      <td>6.324555</td>\n",
       "    </tr>\n",
       "    <tr>\n",
       "      <th>22</th>\n",
       "      <td>s4</td>\n",
       "      <td>s2</td>\n",
       "      <td>7.211103</td>\n",
       "    </tr>\n",
       "    <tr>\n",
       "      <th>23</th>\n",
       "      <td>s4</td>\n",
       "      <td>s3</td>\n",
       "      <td>2.000000</td>\n",
       "    </tr>\n",
       "    <tr>\n",
       "      <th>24</th>\n",
       "      <td>s4</td>\n",
       "      <td>s4</td>\n",
       "      <td>0.000000</td>\n",
       "    </tr>\n",
       "  </tbody>\n",
       "</table>\n",
       "</div>"
      ]
     },
     "execution_count": 4,
     "metadata": {},
     "output_type": "execute_result"
    }
   ],
   "execution_count": 4
  },
  {
   "metadata": {},
   "cell_type": "markdown",
   "source": "`t`: `k1` から `k2` への移動時間（$t_{k1, k2} \\in \\mathbb{R}_{\\geq 0} \\quad (k1, k2 \\in K)$）",
   "id": "c36f464faed84f02"
  },
  {
   "metadata": {
    "ExecuteTime": {
     "end_time": "2024-10-17T09:41:44.772835Z",
     "start_time": "2024-10-17T09:41:44.755647Z"
    }
   },
   "cell_type": "code",
   "source": [
    "# 荷物データ\n",
    "df_r_order = pd.read_csv('small_orders.csv')\n",
    "df_r_order"
   ],
   "id": "1525549298ab6e18",
   "outputs": [
    {
     "data": {
      "text/plain": [
       "    r   s     w  b  e\n",
       "0  r1  s1  1000  1  1\n",
       "1  r2  s2  1000  1  2\n",
       "2  r3  s3  1000  2  2\n",
       "3  r4  s4  1500  2  3\n",
       "4  r5  s1  1500  2  4\n",
       "5  r6  s2  1500  3  4\n",
       "6  r7  s3  1500  3  4\n",
       "7  r8  s4  3000  4  4"
      ],
      "text/html": [
       "<div>\n",
       "<style scoped>\n",
       "    .dataframe tbody tr th:only-of-type {\n",
       "        vertical-align: middle;\n",
       "    }\n",
       "\n",
       "    .dataframe tbody tr th {\n",
       "        vertical-align: top;\n",
       "    }\n",
       "\n",
       "    .dataframe thead th {\n",
       "        text-align: right;\n",
       "    }\n",
       "</style>\n",
       "<table border=\"1\" class=\"dataframe\">\n",
       "  <thead>\n",
       "    <tr style=\"text-align: right;\">\n",
       "      <th></th>\n",
       "      <th>r</th>\n",
       "      <th>s</th>\n",
       "      <th>w</th>\n",
       "      <th>b</th>\n",
       "      <th>e</th>\n",
       "    </tr>\n",
       "  </thead>\n",
       "  <tbody>\n",
       "    <tr>\n",
       "      <th>0</th>\n",
       "      <td>r1</td>\n",
       "      <td>s1</td>\n",
       "      <td>1000</td>\n",
       "      <td>1</td>\n",
       "      <td>1</td>\n",
       "    </tr>\n",
       "    <tr>\n",
       "      <th>1</th>\n",
       "      <td>r2</td>\n",
       "      <td>s2</td>\n",
       "      <td>1000</td>\n",
       "      <td>1</td>\n",
       "      <td>2</td>\n",
       "    </tr>\n",
       "    <tr>\n",
       "      <th>2</th>\n",
       "      <td>r3</td>\n",
       "      <td>s3</td>\n",
       "      <td>1000</td>\n",
       "      <td>2</td>\n",
       "      <td>2</td>\n",
       "    </tr>\n",
       "    <tr>\n",
       "      <th>3</th>\n",
       "      <td>r4</td>\n",
       "      <td>s4</td>\n",
       "      <td>1500</td>\n",
       "      <td>2</td>\n",
       "      <td>3</td>\n",
       "    </tr>\n",
       "    <tr>\n",
       "      <th>4</th>\n",
       "      <td>r5</td>\n",
       "      <td>s1</td>\n",
       "      <td>1500</td>\n",
       "      <td>2</td>\n",
       "      <td>4</td>\n",
       "    </tr>\n",
       "    <tr>\n",
       "      <th>5</th>\n",
       "      <td>r6</td>\n",
       "      <td>s2</td>\n",
       "      <td>1500</td>\n",
       "      <td>3</td>\n",
       "      <td>4</td>\n",
       "    </tr>\n",
       "    <tr>\n",
       "      <th>6</th>\n",
       "      <td>r7</td>\n",
       "      <td>s3</td>\n",
       "      <td>1500</td>\n",
       "      <td>3</td>\n",
       "      <td>4</td>\n",
       "    </tr>\n",
       "    <tr>\n",
       "      <th>7</th>\n",
       "      <td>r8</td>\n",
       "      <td>s4</td>\n",
       "      <td>3000</td>\n",
       "      <td>4</td>\n",
       "      <td>4</td>\n",
       "    </tr>\n",
       "  </tbody>\n",
       "</table>\n",
       "</div>"
      ]
     },
     "execution_count": 5,
     "metadata": {},
     "output_type": "execute_result"
    }
   ],
   "execution_count": 5
  },
  {
   "metadata": {},
   "cell_type": "markdown",
   "source": [
    "- `r` : 荷物（$R= \\lbrace r1, r2, ... \\rbrace$）\n",
    "- `s` : 荷物の配送先の店舗（$s_r \\in S \\quad (r \\in R)$）\n",
    "- `w` : 重量（$ w_r \\in \\mathbb{R}_{\\geq 0} \\quad (r \\in R) $）\n",
    "- `b` : 開始日\n",
    "- `e`: 終了日      \n",
    "    （$b_r, e_r \\in D \\quad (r \\in R) \\quad (D= \\lbrace 1, 2, ..., 20 \\rbrace)$）"
   ],
   "id": "309df4b1834b8b5e"
  },
  {
   "metadata": {},
   "cell_type": "markdown",
   "source": "#### 集合",
   "id": "2e0093070d1e6cc"
  },
  {
   "metadata": {
    "ExecuteTime": {
     "end_time": "2024-10-17T09:41:45.011701Z",
     "start_time": "2024-10-17T09:41:44.997313Z"
    }
   },
   "cell_type": "code",
   "source": [
    "# 配送日のリスト\n",
    "D = list(range(df_r_order['b'].min(), df_r_order['e'].max() + 1))\n",
    "D"
   ],
   "id": "8cb6cb1de60f9666",
   "outputs": [
    {
     "data": {
      "text/plain": [
       "[1, 2, 3, 4]"
      ]
     },
     "execution_count": 6,
     "metadata": {},
     "output_type": "execute_result"
    }
   ],
   "execution_count": 6
  },
  {
   "metadata": {},
   "cell_type": "markdown",
   "source": "$ D = \\lbrace 1, 2, ..., 20 \\rbrace $",
   "id": "92967d4218c611c"
  },
  {
   "metadata": {
    "ExecuteTime": {
     "end_time": "2024-10-17T09:41:45.232236Z",
     "start_time": "2024-10-17T09:41:45.221219Z"
    }
   },
   "cell_type": "code",
   "source": [
    "# 配送センター\n",
    "p = df_k_location.loc[df_k_location['depo_flag'] == 1, 'k'].tolist()[0]\n",
    "p"
   ],
   "id": "a24565949a434bde",
   "outputs": [
    {
     "data": {
      "text/plain": [
       "'p'"
      ]
     },
     "execution_count": 7,
     "metadata": {},
     "output_type": "execute_result"
    }
   ],
   "execution_count": 7
  },
  {
   "metadata": {},
   "cell_type": "markdown",
   "source": "$ p $",
   "id": "b26045f5465e1756"
  },
  {
   "metadata": {
    "ExecuteTime": {
     "end_time": "2024-10-17T09:41:45.507515Z",
     "start_time": "2024-10-17T09:41:45.494143Z"
    }
   },
   "cell_type": "code",
   "source": [
    "# お店のリスト\n",
    "S = df_k_location.loc[df_k_location['depo_flag'] == 0, 'k'].tolist()\n",
    "S"
   ],
   "id": "9238091601c36910",
   "outputs": [
    {
     "data": {
      "text/plain": [
       "['s1', 's2', 's3', 's4']"
      ]
     },
     "execution_count": 8,
     "metadata": {},
     "output_type": "execute_result"
    }
   ],
   "execution_count": 8
  },
  {
   "metadata": {},
   "cell_type": "markdown",
   "source": "$ S = \\lbrace s1, s2, ... \\rbrace $",
   "id": "7ba5df566bb1d766"
  },
  {
   "metadata": {
    "ExecuteTime": {
     "end_time": "2024-10-17T09:41:45.697619Z",
     "start_time": "2024-10-17T09:41:45.689008Z"
    }
   },
   "cell_type": "code",
   "source": [
    "# 地点のリスト\n",
    "K = [p] + S\n",
    "K"
   ],
   "id": "74fd57ef76bef818",
   "outputs": [
    {
     "data": {
      "text/plain": [
       "['p', 's1', 's2', 's3', 's4']"
      ]
     },
     "execution_count": 9,
     "metadata": {},
     "output_type": "execute_result"
    }
   ],
   "execution_count": 9
  },
  {
   "metadata": {},
   "cell_type": "markdown",
   "source": "$ K = \\lbrace p, s1, s2, ... \\rbrace $",
   "id": "52a76cb562bc0d60"
  },
  {
   "metadata": {
    "ExecuteTime": {
     "end_time": "2024-10-17T09:41:46.290200Z",
     "start_time": "2024-10-17T09:41:46.275205Z"
    }
   },
   "cell_type": "code",
   "source": [
    "# 荷物のリスト\n",
    "R = df_r_order['r'].tolist()\n",
    "R"
   ],
   "id": "c4ee93f0f8a519e6",
   "outputs": [
    {
     "data": {
      "text/plain": [
       "['r1', 'r2', 'r3', 'r4', 'r5', 'r6', 'r7', 'r8']"
      ]
     },
     "execution_count": 10,
     "metadata": {},
     "output_type": "execute_result"
    }
   ],
   "execution_count": 10
  },
  {
   "metadata": {},
   "cell_type": "markdown",
   "source": "$ R = \\lbrace r1, r2, ... \\rbrace  $",
   "id": "c266e69d5a08785a"
  },
  {
   "metadata": {},
   "cell_type": "markdown",
   "source": "#### 定数",
   "id": "8b0ffa8ba8b573e4"
  },
  {
   "metadata": {
    "ExecuteTime": {
     "end_time": "2024-10-17T09:41:47.924568Z",
     "start_time": "2024-10-17T09:41:47.909903Z"
    }
   },
   "cell_type": "code",
   "source": [
    "# 荷物に紐づける\n",
    "R2S = { row.r: row.s for row in df_r_order.itertuples() }\n",
    "print(R2S)"
   ],
   "id": "535266159c617a44",
   "outputs": [
    {
     "name": "stdout",
     "output_type": "stream",
     "text": [
      "{'r1': 's1', 'r2': 's2', 'r3': 's3', 'r4': 's4', 'r5': 's1', 'r6': 's2', 'r7': 's3', 'r8': 's4'}\n"
     ]
    }
   ],
   "execution_count": 11
  },
  {
   "metadata": {},
   "cell_type": "markdown",
   "source": "$ S_r \\in S \\quad (r \\in R) $",
   "id": "c7bd98c065c5843c"
  },
  {
   "metadata": {
    "ExecuteTime": {
     "end_time": "2024-10-17T09:41:49.362945Z",
     "start_time": "2024-10-17T09:41:49.348445Z"
    }
   },
   "cell_type": "code",
   "source": [
    "# 荷物に紐づける重量\n",
    "R2W = { row.r: row.w for row in df_r_order.itertuples() }\n",
    "print(R2W)"
   ],
   "id": "2ce15a2231909916",
   "outputs": [
    {
     "name": "stdout",
     "output_type": "stream",
     "text": [
      "{'r1': 1000, 'r2': 1000, 'r3': 1000, 'r4': 1500, 'r5': 1500, 'r6': 1500, 'r7': 1500, 'r8': 3000}\n"
     ]
    }
   ],
   "execution_count": 12
  },
  {
   "metadata": {},
   "cell_type": "markdown",
   "source": "$ w_r \\in W \\quad (r \\in R)$",
   "id": "6aa0ed349bf0efb7"
  },
  {
   "metadata": {
    "ExecuteTime": {
     "end_time": "2024-10-17T09:41:54.336148Z",
     "start_time": "2024-10-17T09:41:54.317973Z"
    }
   },
   "cell_type": "code",
   "source": [
    "# 荷物に紐づける指定配送期間の開始日\n",
    "R2B = {row.r: row.b for row in df_r_order.itertuples()}\n",
    "print(R2B)"
   ],
   "id": "e1c8313d2be01c55",
   "outputs": [
    {
     "name": "stdout",
     "output_type": "stream",
     "text": [
      "{'r1': 1, 'r2': 1, 'r3': 2, 'r4': 2, 'r5': 2, 'r6': 3, 'r7': 3, 'r8': 4}\n"
     ]
    }
   ],
   "execution_count": 13
  },
  {
   "metadata": {},
   "cell_type": "markdown",
   "source": "$ b_r \\in D \\quad (r \\in R) $",
   "id": "2c0761400d5d67de"
  },
  {
   "metadata": {
    "ExecuteTime": {
     "end_time": "2024-10-17T09:41:55.844630Z",
     "start_time": "2024-10-17T09:41:55.827214Z"
    }
   },
   "cell_type": "code",
   "source": [
    "# 荷物に紐づける指定配送期間の終了日\n",
    "R2E = {row.r: row.e  for row in df_r_order.itertuples()}\n",
    "print(R2E)"
   ],
   "id": "f36e6abd2ab584c1",
   "outputs": [
    {
     "name": "stdout",
     "output_type": "stream",
     "text": [
      "{'r1': 1, 'r2': 2, 'r3': 2, 'r4': 3, 'r5': 4, 'r6': 4, 'r7': 4, 'r8': 4}\n"
     ]
    }
   ],
   "execution_count": 14
  },
  {
   "metadata": {},
   "cell_type": "markdown",
   "source": "$ e_r \\in D \\quad (r \\in R) $",
   "id": "98362e0920dcff35"
  },
  {
   "metadata": {
    "ExecuteTime": {
     "end_time": "2024-10-17T09:42:02.735559Z",
     "start_time": "2024-10-17T09:42:02.726099Z"
    }
   },
   "cell_type": "code",
   "source": [
    "# 地点間の移動時間\n",
    "KK2T = {(row.k1, row.k2): row.t for row in df_kk_distance.itertuples()}\n",
    "print(KK2T)"
   ],
   "id": "1f8e0ad1f6eec845",
   "outputs": [
    {
     "name": "stdout",
     "output_type": "stream",
     "text": [
      "{('p', 'p'): 0.0, ('p', 's1'): 2.0, ('p', 's2'): 2.8284271247461903, ('p', 's3'): 4.0, ('p', 's4'): 4.47213595499958, ('s1', 'p'): 2.0, ('s1', 's1'): 0.0, ('s1', 's2'): 2.0, ('s1', 's3'): 6.0, ('s1', 's4'): 6.324555320336759, ('s2', 'p'): 2.8284271247461903, ('s2', 's1'): 2.0, ('s2', 's2'): 0.0, ('s2', 's3'): 6.324555320336759, ('s2', 's4'): 7.211102550927978, ('s3', 'p'): 4.0, ('s3', 's1'): 6.0, ('s3', 's2'): 6.324555320336759, ('s3', 's3'): 0.0, ('s3', 's4'): 2.0, ('s4', 'p'): 4.47213595499958, ('s4', 's1'): 6.324555320336759, ('s4', 's2'): 7.211102550927978, ('s4', 's3'): 2.0, ('s4', 's4'): 0.0}\n"
     ]
    }
   ],
   "execution_count": 15
  },
  {
   "metadata": {},
   "cell_type": "markdown",
   "source": "$ t_{k1,k2} \\in \\mathbb{R}_{\\geq 0} \\quad (k1, k2 \\in K)$",
   "id": "bb612c3b69e2acd7"
  },
  {
   "metadata": {},
   "cell_type": "markdown",
   "source": "## 実装",
   "id": "6e40a371ed515700"
  },
  {
   "metadata": {
    "ExecuteTime": {
     "end_time": "2024-10-17T09:44:47.067999Z",
     "start_time": "2024-10-17T09:44:47.062494Z"
    }
   },
   "cell_type": "code",
   "source": "prob = pulp.LpProblem('vrp_small', pulp.LpMinimize)  # 配送費用（残業費用 + 外注費用）の最小化",
   "id": "1da56e7f46e47e94",
   "outputs": [],
   "execution_count": 16
  },
  {
   "metadata": {},
   "cell_type": "code",
   "outputs": [],
   "execution_count": null,
   "source": "# 地点間の移動の有無\n",
   "id": "5114684e5fd3bdc3"
  }
 ],
 "metadata": {
  "kernelspec": {
   "display_name": "Python 3",
   "language": "python",
   "name": "python3"
  },
  "language_info": {
   "codemirror_mode": {
    "name": "ipython",
    "version": 2
   },
   "file_extension": ".py",
   "mimetype": "text/x-python",
   "name": "python",
   "nbconvert_exporter": "python",
   "pygments_lexer": "ipython2",
   "version": "2.7.6"
  }
 },
 "nbformat": 4,
 "nbformat_minor": 5
}
